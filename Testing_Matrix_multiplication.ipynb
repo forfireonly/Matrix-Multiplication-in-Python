{
  "nbformat": 4,
  "nbformat_minor": 0,
  "metadata": {
    "colab": {
      "name": "Testing Matrix multiplication.ipynb",
      "provenance": [],
      "collapsed_sections": []
    },
    "kernelspec": {
      "name": "python3",
      "display_name": "Python 3"
    },
    "accelerator": "GPU"
  },
  "cells": [
    {
      "cell_type": "markdown",
      "metadata": {
        "id": "L2ommKydvgUR",
        "colab_type": "text"
      },
      "source": [
        "# Testing different ways of multiplying matices in Python"
      ]
    },
    {
      "cell_type": "markdown",
      "metadata": {
        "id": "rXUYliw8AZWY",
        "colab_type": "text"
      },
      "source": [
        "Python's time module provides various time-related functions. We are going to utilize it in order to calculate how long does it take to perform operations."
      ]
    },
    {
      "cell_type": "code",
      "metadata": {
        "id": "_ov_AG08mzdW",
        "colab_type": "code",
        "colab": {}
      },
      "source": [
        "import time"
      ],
      "execution_count": 0,
      "outputs": []
    },
    {
      "cell_type": "code",
      "metadata": {
        "id": "jMscPqfCInPG",
        "colab_type": "code",
        "colab": {}
      },
      "source": [
        "# 3x3 matrix\n",
        "X = [[1,1,1],\n",
        "    [1,1,1],\n",
        "    [1,1,1]]\n",
        "# 3x4 matrix\n",
        "Y = [[1,1,1,1],\n",
        "    [1,1,1,1],\n",
        "    [1,1,1,1]]"
      ],
      "execution_count": 0,
      "outputs": []
    },
    {
      "cell_type": "markdown",
      "metadata": {
        "id": "xWcezEEcHdB_",
        "colab_type": "text"
      },
      "source": [
        "Define matrix initializing function using list comprehension"
      ]
    },
    {
      "cell_type": "code",
      "metadata": {
        "id": "W5q7gWu7I3bk",
        "colab_type": "code",
        "colab": {}
      },
      "source": [
        "def matrix_initializing(Rows, Columns):\n",
        "    # using list comprehension  \n",
        "    # to initializing matrix \n",
        "    matrix = [ [ 1 for i in range(Rows) ] for j in range(Columns) ] \n",
        "    return matrix"
      ],
      "execution_count": 0,
      "outputs": []
    },
    {
      "cell_type": "markdown",
      "metadata": {
        "id": "7ru_QePzIHj_",
        "colab_type": "text"
      },
      "source": [
        "Initialize matricies"
      ]
    },
    {
      "cell_type": "code",
      "metadata": {
        "id": "-Boqil2WiTzf",
        "colab_type": "code",
        "colab": {}
      },
      "source": [
        "X = matrix_initializing(500, 500)\n",
        "Y = matrix_initializing(500, 500)\n"
      ],
      "execution_count": 0,
      "outputs": []
    },
    {
      "cell_type": "markdown",
      "metadata": {
        "id": "7Y_v8NhwDvnA",
        "colab_type": "text"
      },
      "source": [
        "Initialize list to track computational speed"
      ]
    },
    {
      "cell_type": "code",
      "metadata": {
        "id": "bwkC3yXWDoXJ",
        "colab_type": "code",
        "colab": {}
      },
      "source": [
        "performance = []"
      ],
      "execution_count": 0,
      "outputs": []
    },
    {
      "cell_type": "markdown",
      "metadata": {
        "id": "fPD368Y2JerW",
        "colab_type": "text"
      },
      "source": [
        "Multiply two matrices using for loop"
      ]
    },
    {
      "cell_type": "code",
      "metadata": {
        "id": "i5f0hCChJqcP",
        "colab_type": "code",
        "outputId": "94be0129-5825-4213-fb27-4d3efc99db7d",
        "colab": {
          "base_uri": "https://localhost:8080/",
          "height": 34
        }
      },
      "source": [
        "# result is 3x4\n",
        "result = matrix_initializing(500, 500)\n",
        "start_time = time.time()         \n",
        "# iterate through rows of X\n",
        "for i in range(len(X)):\n",
        "   # iterate through columns of Y\n",
        "   for j in range(len(Y[0])):\n",
        "       # iterate through rows of Y\n",
        "       for k in range(len(Y)):\n",
        "           result[i][j] += X[i][k] * Y[k][j]\n",
        "time_cpu = time.time() - start_time\n",
        "\n",
        "performance.append(time_cpu)\n",
        "\n",
        "print(\"Time on CPU: {:.5f}s \".format(time_cpu))"
      ],
      "execution_count": 6,
      "outputs": [
        {
          "output_type": "stream",
          "text": [
            "Time on CPU: 30.98964s \n"
          ],
          "name": "stdout"
        }
      ]
    },
    {
      "cell_type": "markdown",
      "metadata": {
        "id": "kDk0Kz2HECRw",
        "colab_type": "text"
      },
      "source": [
        "We are going to multiply two matrices using list comprehision"
      ]
    },
    {
      "cell_type": "code",
      "metadata": {
        "id": "9PqAIwyxEEys",
        "colab_type": "code",
        "outputId": "9e24aeb5-89da-41ea-a145-a35ba3be68ee",
        "colab": {
          "base_uri": "https://localhost:8080/",
          "height": 34
        }
      },
      "source": [
        "# Program to multiply two matrices using list comprehension\n",
        "# 3x3 matrix\n",
        "\n",
        "start_time = time.time()\n",
        "result = [[sum(a*b for a,b in zip(X_row,Y_col)) for Y_col in zip(*Y)] for X_row in X]\n",
        "time_cpu = time.time() - start_time\n",
        "performance.append(time_cpu)\n",
        "\n",
        "print(\"Time on CPU: {:.5f}s \".format(time_cpu))\n"
      ],
      "execution_count": 7,
      "outputs": [
        {
          "output_type": "stream",
          "text": [
            "Time on CPU: 9.06592s \n"
          ],
          "name": "stdout"
        }
      ]
    },
    {
      "cell_type": "markdown",
      "metadata": {
        "id": "2oKOQmuhDyd5",
        "colab_type": "text"
      },
      "source": [
        "Numpy is package for scientific computing in Python."
      ]
    },
    {
      "cell_type": "code",
      "metadata": {
        "id": "ajgf88orDv0i",
        "colab_type": "code",
        "colab": {}
      },
      "source": [
        "import numpy as np"
      ],
      "execution_count": 0,
      "outputs": []
    },
    {
      "cell_type": "markdown",
      "metadata": {
        "id": "xqMJiiIUOp2M",
        "colab_type": "text"
      },
      "source": [
        "Matrix multiplication using numpy"
      ]
    },
    {
      "cell_type": "code",
      "metadata": {
        "id": "K9TQVOYiakX9",
        "colab_type": "code",
        "colab": {}
      },
      "source": [
        "#converting lists into numpy array\n",
        "X_numpy = np.array(X)\n",
        "Y_numpy = np.array(Y)"
      ],
      "execution_count": 0,
      "outputs": []
    },
    {
      "cell_type": "code",
      "metadata": {
        "id": "5_tSGISuWuRQ",
        "colab_type": "code",
        "outputId": "dca0298d-5bb7-4ec6-9373-17aa439ff2a1",
        "colab": {
          "base_uri": "https://localhost:8080/",
          "height": 34
        }
      },
      "source": [
        "# Do the calculation on cpu (default)\n",
        "start_time = time.time()\n",
        "  # Matrix multiplication (for benchmark purpose)\n",
        "results = np.dot(X_numpy, Y_numpy)\n",
        "\n",
        "time_cpu = time.time() - start_time\n",
        "\n",
        "performance.append(time_cpu)\n",
        "\n",
        "print(\"Time on CPU: {:.5f}s \".format(time_cpu))"
      ],
      "execution_count": 10,
      "outputs": [
        {
          "output_type": "stream",
          "text": [
            "Time on CPU: 0.16563s \n"
          ],
          "name": "stdout"
        }
      ]
    },
    {
      "cell_type": "markdown",
      "metadata": {
        "id": "_1yfN5rAvXUB",
        "colab_type": "text"
      },
      "source": [
        "Pytorch is a Python based scientific computing package. It has ability to perform parallel computations faster by utilizing parallel architecture of GPUs"
      ]
    },
    {
      "cell_type": "code",
      "metadata": {
        "id": "2BdyRLqJ9IYV",
        "colab_type": "code",
        "colab": {}
      },
      "source": [
        "import torch as th"
      ],
      "execution_count": 0,
      "outputs": []
    },
    {
      "cell_type": "markdown",
      "metadata": {
        "id": "ieIwPA7jvzd1",
        "colab_type": "text"
      },
      "source": [
        "Multiply two matrices mm pytorch"
      ]
    },
    {
      "cell_type": "code",
      "metadata": {
        "id": "V551tbxgyzE8",
        "colab_type": "code",
        "colab": {}
      },
      "source": [
        "#Turning numpy arrays into pytorch tensors›\n",
        "X_tensor = th.FloatTensor(X)\n",
        "Y_tensor = th.FloatTensor(Y)"
      ],
      "execution_count": 0,
      "outputs": []
    },
    {
      "cell_type": "code",
      "metadata": {
        "id": "egqnThCLv1Z9",
        "colab_type": "code",
        "outputId": "ad5dd3ee-b921-4985-8b67-d565708b80a8",
        "colab": {
          "base_uri": "https://localhost:8080/",
          "height": 51
        }
      },
      "source": [
        "if th.cuda.is_available():\n",
        "\n",
        "  # Do the calculation on cpu (default)\n",
        "  start_time = time.time()\n",
        "  # Matrix multiplication (for benchmark purpose)\n",
        "  results = th.mm(X_tensor, Y_tensor)\n",
        "\n",
        "  time_cpu = time.time() - start_time\n",
        "\n",
        "  # Do the same calculation but on the gpu\n",
        "  # First move tensors to gpu\n",
        "  x = X_tensor.to(\"cuda\")\n",
        "  y = Y_tensor.to(\"cuda\")\n",
        "  start_time = time.time()\n",
        "  # Matrix multiplication (for benchmark purpose)\n",
        "  results = th.mm(x, y)\n",
        "  \n",
        "  time_gpu = time.time() - start_time\n",
        "  \n",
        "  performance.append(time_gpu)\n",
        "  print(\"Time on CPU: {:.5f}s \\t Time on GPU: {:.5f}s\".format(time_cpu, time_gpu))\n",
        "  print(\"Speed up: Computation was {:.0f}X faster on GPU!\".format(time_cpu / time_gpu))\n",
        "  \n",
        "else:\n",
        "  print(\"You need to enable GPU accelaration in colab (runtime->change runtime type)\")"
      ],
      "execution_count": 13,
      "outputs": [
        {
          "output_type": "stream",
          "text": [
            "Time on CPU: 0.05387s \t Time on GPU: 0.00107s\n",
            "Speed up: Computation was 51X faster on GPU!\n"
          ],
          "name": "stdout"
        }
      ]
    },
    {
      "cell_type": "code",
      "metadata": {
        "id": "U0tiDJduIPWD",
        "colab_type": "code",
        "outputId": "67e658a7-01d9-43d2-a67b-91e1dad26c6a",
        "colab": {
          "base_uri": "https://localhost:8080/",
          "height": 34
        }
      },
      "source": [
        "print(performance)"
      ],
      "execution_count": 14,
      "outputs": [
        {
          "output_type": "stream",
          "text": [
            "[30.989636659622192, 9.065919160842896, 0.16563010215759277, 0.001065969467163086]\n"
          ],
          "name": "stdout"
        }
      ]
    },
    {
      "cell_type": "code",
      "metadata": {
        "id": "iCemMBiwAbvw",
        "colab_type": "code",
        "outputId": "03a87ba7-3d52-4bbb-d49a-fe98c72d63c9",
        "colab": {
          "base_uri": "https://localhost:8080/",
          "height": 452
        }
      },
      "source": [
        "import matplotlib.pyplot as plt; plt.rcdefaults()\n",
        "import numpy as np\n",
        "import matplotlib.pyplot as plt\n",
        "\n",
        "objects = ('For Loop', 'List Comprehension', 'Numpy', 'GPU')\n",
        "y_pos = np.arange(len(objects))\n",
        "\n",
        "\n",
        "plt.bar(y_pos, performance, align='center', alpha=0.5)\n",
        "plt.xticks(y_pos, objects)\n",
        "plt.ylabel('calculation time')\n",
        "plt.title('Computational Time for Matrix multiplication')\n",
        "\n",
        "plt.show()"
      ],
      "execution_count": 15,
      "outputs": [
        {
          "output_type": "display_data",
          "data": {
            "image/png": "[encoded data removed]",
            "text/plain": [
              "<Figure size 640x480 with 1 Axes>"
            ]
          },
          "metadata": {
            "tags": []
          }
        }
      ]
    }
  ]
}